{
  "nbformat": 4,
  "nbformat_minor": 0,
  "metadata": {
    "colab": {
      "private_outputs": true,
      "provenance": [],
      "collapsed_sections": [],
      "authorship_tag": "ABX9TyNpnGDBK/NGqOauC5xE6h5k",
      "include_colab_link": true
    },
    "kernelspec": {
      "name": "python3",
      "display_name": "Python 3"
    },
    "language_info": {
      "name": "python"
    },
    "accelerator": "GPU"
  },
  "cells": [
    {
      "cell_type": "markdown",
      "metadata": {
        "id": "view-in-github",
        "colab_type": "text"
      },
      "source": [
        "<a href=\"https://colab.research.google.com/github/stealthinu/whisper_test/blob/main/whisper_test.ipynb\" target=\"_parent\"><img src=\"https://colab.research.google.com/assets/colab-badge.svg\" alt=\"Open In Colab\"/></a>"
      ]
    },
    {
      "cell_type": "code",
      "execution_count": null,
      "metadata": {
        "id": "iYjrHwJBrTTE"
      },
      "outputs": [],
      "source": [
        "! pip install -q git+https://github.com/openai/whisper.git\n",
        "! pip install -q gradio"
      ]
    },
    {
      "cell_type": "code",
      "source": [
        "import whisper\n",
        "import gradio"
      ],
      "metadata": {
        "id": "yKWE2Pz_rZQH"
      },
      "execution_count": null,
      "outputs": []
    },
    {
      "cell_type": "code",
      "source": [
        "model = whisper.load_model(\"medium\")"
      ],
      "metadata": {
        "id": "1PD0ZjZ0rzvp"
      },
      "execution_count": null,
      "outputs": []
    },
    {
      "cell_type": "code",
      "source": [
        "def transcribe(audio):\n",
        "  audio = whisper.load_audio(audio)\n",
        "  audio = whisper.pad_or_trim(audio)\n",
        "  mel = whisper.log_mel_spectrogram(audio).to(model.device)\n",
        "  options = whisper.DecodingOptions()\n",
        "  result = whisper.decode(model, mel, options)\n",
        "  return result.text\n",
        "\n",
        "gradio.Interface(\n",
        "  fn=transcribe, \n",
        "  inputs=gr.Audio(source=\"microphone\", type=\"filepath\"),\n",
        "  outputs=\"textbox\",\n",
        "  live=True).launch(debug=True)"
      ],
      "metadata": {
        "id": "-DmLU3O9sCPP"
      },
      "execution_count": null,
      "outputs": []
    },
    {
      "cell_type": "code",
      "source": [],
      "metadata": {
        "id": "MX7sa6XlsT9q"
      },
      "execution_count": null,
      "outputs": []
    }
  ]
}